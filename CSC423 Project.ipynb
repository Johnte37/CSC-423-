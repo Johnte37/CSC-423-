{
 "cells": [
  {
   "cell_type": "code",
   "execution_count": null,
   "id": "a20d3ea4",
   "metadata": {},
   "outputs": [],
   "source": [
    "import requests\n",
    "from bs4 import BeautifulSoup"
   ]
  },
  {
   "cell_type": "code",
   "execution_count": null,
   "id": "8604cda6",
   "metadata": {},
   "outputs": [],
   "source": [
    "url = \"https://en.wikipedia.org/wiki/Sheng_slang#Etymology_and_history\"\n",
    "response = requests.get(url)\n",
    "\n",
    "soup = BeautifulSoup(response.content, \"html.parser\")\n",
    "\n",
    "sheng_table = soup.find(\"table\", {\"class\": \"wikitable\"})\n",
    "sheng_data = []\n",
    "\n",
    "for row in sheng_table.find_all(\"tr\"):\n",
    "    cols = row.find_all(\"td\")\n",
    "    if len(cols) == 2:\n",
    "        sheng_word = cols[0].text.strip()\n",
    "        english_translation = cols[1].text.strip()\n",
    "        sheng_data.append((sheng_word, english_translation))\n",
    "\n",
    "print(sheng_data)"
   ]
  },
  {
   "cell_type": "code",
   "execution_count": null,
   "id": "7dbaa43d",
   "metadata": {},
   "outputs": [],
   "source": [
    "sheng_words = []\n",
    "english_translations = []\n",
    "\n",
    "for sheng_word, english_translation in sheng_data:\n",
    "    sheng_words.append(sheng_word)\n",
    "    english_translations.append(english_translation)\n",
    "\n",
    "labeled_data = list(zip(sheng_words, english_translations))\n"
   ]
  },
  {
   "cell_type": "code",
   "execution_count": null,
   "id": "a9376b86",
   "metadata": {},
   "outputs": [],
   "source": [
    "def preprocess_text(text):\n",
    "    # Remove punctuation\n",
    "    text = text.translate(str.maketrans('', '', string.punctuation))\n",
    "    # Tokenize the text\n",
    "    tokens = text.split()\n",
    "    # Convert everything to lowercase\n",
    "    tokens = [token.lower() for token in tokens]\n",
    "    return \" \".join(tokens)"
   ]
  },
  {
   "cell_type": "code",
   "execution_count": null,
   "id": "ce4c446d",
   "metadata": {},
   "outputs": [],
   "source": [
    "import string\n",
    "# Preprocess the Sheng and English translations\n",
    "preprocessed_data = []\n",
    "for sheng_word, english_translation in labeled_data:\n",
    "    preprocessed_sheng_word = preprocess_text(sheng_word)\n",
    "    preprocessed_english_translation = preprocess_text(english_translation)\n",
    "    preprocessed_data.append((preprocessed_sheng_word, preprocessed_english_translation))"
   ]
  },
  {
   "cell_type": "code",
   "execution_count": null,
   "id": "1028ec3c",
   "metadata": {},
   "outputs": [],
   "source": [
    "from sklearn.model_selection import train_test_split\n",
    "# Split the preprocessed data into training and testing sets\n",
    "X_train, X_test, y_train, y_test = train_test_split(\n",
    "    [sheng_word for sheng_word, english_translation in preprocessed_data],\n",
    "    [english_translation for sheng_word, english_translation in preprocessed_data],\n",
    "    test_size=0.2,\n",
    "    random_state=42,\n",
    ")"
   ]
  },
  {
   "cell_type": "code",
   "execution_count": null,
   "id": "b77e6fa1",
   "metadata": {},
   "outputs": [],
   "source": [
    "from sklearn.feature_extraction.text import CountVectorizer\n",
    "# Extract features from the preprocessed data using a bag-of-words model\n",
    "vectorizer = CountVectorizer()\n",
    "X_train = vectorizer.fit_transform(X_train)\n",
    "X_test = vectorizer.transform(X_test)"
   ]
  },
  {
   "cell_type": "code",
   "execution_count": null,
   "id": "5ef471f9",
   "metadata": {},
   "outputs": [],
   "source": [
    "from sklearn.naive_bayes import MultinomialNB\n",
    "# Train a Naive Bayes classifier on the training data\n",
    "classifier = MultinomialNB()\n",
    "classifier.fit(X_train, y_train)"
   ]
  },
  {
   "cell_type": "code",
   "execution_count": null,
   "id": "1fba9d1f",
   "metadata": {},
   "outputs": [],
   "source": [
    "from sklearn.metrics import accuracy_score\n",
    "# Evaluate the classifier on the testing data\n",
    "y_pred = classifier.predict(X_test)\n",
    "accuracy = accuracy_score(y_test, y_pred)\n",
    "print(f\"Accuracy: {accuracy:.2f}\")"
   ]
  },
  {
   "cell_type": "code",
   "execution_count": null,
   "id": "39d049e7",
   "metadata": {},
   "outputs": [],
   "source": [
    "# Deploy the classifier by wrapping it in a function\n",
    "def translate_sheng_to_english(sheng_word):\n",
    "    preprocessed_sheng_word = preprocess_text(sheng_word)\n",
    "    vectorized_sheng_word = vectorizer.transform([preprocessed_sheng_word])\n",
    "    english_translation = classifier.predict(vectorized_sheng_word)[0]\n",
    "    return english_translation"
   ]
  },
  {
   "cell_type": "code",
   "execution_count": null,
   "id": "5b201f3a",
   "metadata": {},
   "outputs": [],
   "source": [
    "# Prompt the user to input a Sheng word and translate it to English\n",
    "while True:\n",
    "    sheng_word = input(\"Enter a Sheng word (or 'quit' to exit): \")\n",
    "    if sheng_word.lower() == \"quit\":\n",
    "        break\n",
    "    english_translation = translate_sheng_to_english(sheng_word)\n",
    "    print(f\"{sheng_word} means '{english_translation}' in English.\")"
   ]
  },
  {
   "cell_type": "code",
   "execution_count": null,
   "id": "b47bd9bc",
   "metadata": {},
   "outputs": [],
   "source": []
  },
  {
   "cell_type": "code",
   "execution_count": null,
   "id": "4d1a1e8c",
   "metadata": {},
   "outputs": [],
   "source": []
  },
  {
   "cell_type": "code",
   "execution_count": null,
   "id": "963adb28",
   "metadata": {},
   "outputs": [],
   "source": []
  }
 ],
 "metadata": {
  "kernelspec": {
   "display_name": "Python 3 (ipykernel)",
   "language": "python",
   "name": "python3"
  },
  "language_info": {
   "codemirror_mode": {
    "name": "ipython",
    "version": 3
   },
   "file_extension": ".py",
   "mimetype": "text/x-python",
   "name": "python",
   "nbconvert_exporter": "python",
   "pygments_lexer": "ipython3",
   "version": "3.11.2"
  }
 },
 "nbformat": 4,
 "nbformat_minor": 5
}
